{
 "cells": [
  {
   "cell_type": "markdown",
   "id": "bb4f5554-efc9-460e-8254-995efb5f06ac",
   "metadata": {},
   "source": [
    "# Assignment 4:  Web Scraping Exercise"
   ]
  },
  {
   "cell_type": "markdown",
   "id": "02c669e1",
   "metadata": {},
   "source": [
    "In this assignment, we will use web scraping to automate the process of getting data from the CORGIS website and visualizing it.\n",
    "* You can add any number of extra code cells below that you want."
   ]
  },
  {
   "cell_type": "markdown",
   "id": "47e01157",
   "metadata": {},
   "source": [
    "We are going to retrieve a list of all the CORGIS CSV Datasets.  To do this, include the following steps in the cell below:\n",
    "* Import requests and BeautifulSoup\n",
    "* Use `requests.get` to retrieve the html code of the CORGIS [CSV Datasets](https://corgis-edu.github.io/corgis/csv/) webpage\n",
    "* Use `BeautifulSoup` to parse the html and create a list containing all occurrences of the \"h3\" html tag\n",
    "  * Look at the page source of the above link to identify why it makes sense to search for the \\<h3\\> tags in the page\n",
    "* Using the list of h3 tags, make a Python list of all the dataset names and store it in the variable `corgis_list`.  \n",
    "* When you have your list, print it out.  The output should be the following:\n",
    "    * `['Aids', 'Airlines', 'Astronauts', 'Billionaires', 'Broadway', 'Business Dynamics', 'Cancer', 'Cars', 'Classics', 'Coffee', 'Construction Permits', 'Construction Spending', 'Consumer Price Index', 'County Demographics', 'Covid', 'Covid Behaviors', 'Covid Mobility', 'Drugs', 'Earthquakes', 'Election', 'Electricity', 'Emissions', 'Energy', 'Finance', 'Food', 'Food Access', 'Global Development', 'Global Emissions', 'Graduates', 'Health', 'Hospitals', 'Hydropower', 'Ingredients', 'Injuries', 'Labor', 'Medal Of Honor', 'Monkeypox', 'Music', 'Nuclear Explosions', 'Opioids', 'Parking Citations', 'Police Shootings', 'Publishers', 'Real Estate', 'Retail Services', 'School Scores', 'Skyscrapers', 'Slavery', 'Smoking', 'State Crime', 'State Demographics', 'State Fragility', 'Suicide Attacks', 'Super Bowl Ads', 'Supreme Court', 'Tate', 'Ufo Sightings', 'Video Games', 'Weather', 'Wind Turbines']`"
   ]
  },
  {
   "cell_type": "code",
   "execution_count": 3,
   "id": "9a2d2a79",
   "metadata": {},
   "outputs": [
    {
     "name": "stdout",
     "output_type": "stream",
     "text": [
      "['Aids', 'Airlines', 'Astronauts', 'Billionaires', 'Broadway', 'Business Dynamics', 'Cancer', 'Cars', 'Classics', 'Coffee', 'Construction Permits', 'Construction Spending', 'Consumer Price Index', 'County Demographics', 'Covid', 'Covid Behaviors', 'Covid Mobility', 'Drugs', 'Earthquakes', 'Election', 'Electricity', 'Emissions', 'Energy', 'Finance', 'Food', 'Food Access', 'Global Development', 'Global Emissions', 'Graduates', 'Health', 'Hospitals', 'Hydropower', 'Ingredients', 'Injuries', 'Labor', 'Medal Of Honor', 'Monkeypox', 'Music', 'Nuclear Explosions', 'Opioids', 'Parking Citations', 'Police Shootings', 'Publishers', 'Real Estate', 'Retail Services', 'School Scores', 'Skyscrapers', 'Slavery', 'Smoking', 'State Crime', 'State Demographics', 'State Fragility', 'Suicide Attacks', 'Super Bowl Ads', 'Supreme Court', 'Tate', 'Ufo Sightings', 'Video Games', 'Weather', 'Wind Turbines']\n"
     ]
    }
   ],
   "source": [
    "import requests\n",
    "from bs4 import BeautifulSoup\n",
    "\n",
    "req = requests.get('https://corgis-edu.github.io/corgis/csv/')\n",
    "soup = BeautifulSoup(response.text, 'html.parser')\n",
    "h3_tags = soup.find_all('h3')\n",
    "corgis_list = [tag.get_text() for tag in h3_tags]\n",
    "print(corgis_list)"
   ]
  },
  {
   "cell_type": "markdown",
   "id": "47d1e145",
   "metadata": {},
   "source": [
    "Write a function that takes an element from `corgis_list`, searches the respective CORGIS page for the CSV download link, and returns a Pandas dataframe.\n",
    "\n",
    "Hints:\n",
    "* If you define a function `pdcorgis` and want to call it with Python code like `classics_data = pdcorgis(corgis_list[0])`, then an example set of Python commands inside the function could be:\n",
    "  1. Convert the dataset name to lowercase [Note that `a.lower()` will give a lowercase version of the string `a`]\n",
    "  1. Get the HTML code from the website using `requests` with the appropriate website name, which here would be \"https://corgis-edu.github.io/corgis/csv/\" plus the dataset name plus the string \"/\" \n",
    "  1. Use `BeautifulSoup` to find all the HTML links on that page (links have the tag \"a\")\n",
    "  1. For any link element (which here I'll call \"i\"), test whether `i.has_attr('download')` is true or false; if it is true, then store the value of `i['href']` in a variable to use as part of the download link for the csv file\n",
    "  1. The complete download link for the file will be \"https://corgis-edu.github.io/corgis/csv/\" plus the dataset name plus the string \"/\" plus the string stored in the result you found for `i['href']`\n",
    "  1. Use `pd.read_csv()` to read data stored at the download link for the csv file; assign the resulting dataframe to a variable\n",
    "  1. Use a `return` statement to return the dataframe from your function.  [For example, if I saved the dataframe as the variable `corgisdf`, I would use `return corgisdf` at the end of my function]\n",
    "    "
   ]
  },
  {
   "cell_type": "code",
   "execution_count": 15,
   "id": "dfee2cf2",
   "metadata": {},
   "outputs": [],
   "source": [
    "import pandas as pd\n",
    "\n",
    "def pdcorgis(dataset_name):\n",
    "    # convert the dataset name to lowercase\n",
    "    dataset_name = dataset_name.lower()\n",
    "    \n",
    "    # construct the URL for the specific dataset page\n",
    "    base_url = 'https://corgis-edu.github.io/corgis/csv/'\n",
    "    dataset_url = f\"{base_url}{dataset_name}/\"\n",
    "    \n",
    "    # retrieve the HTML code from the dataset page\n",
    "    response = requests.get(dataset_url)\n",
    "    soup = BeautifulSoup(response.text, 'html.parser')\n",
    "    \n",
    "    # find all the links on the page\n",
    "    links = soup.find_all('a')\n",
    "    \n",
    "    # search for the CSV download link\n",
    "    csv_link = None\n",
    "    for link in links:\n",
    "        if link.has_attr('download'):\n",
    "            csv_link = link['href']\n",
    "            break\n",
    "    \n",
    "    # construct the full download link for the CSV file\n",
    "    if csv_link:\n",
    "        download_url = f\"{dataset_url}{csv_link}\"\n",
    "        df = pd.read_csv(download_url)\n",
    "        return df"
   ]
  },
  {
   "cell_type": "markdown",
   "id": "02fa646d",
   "metadata": {},
   "source": [
    "Confirm that your function works for an arbitrary element of your list of CORGIS datasets.  \n",
    "* For example:  if your list of CORGIS datasets is `corgis_list` and your function name is `pdcorgis`, then executing `pdcorgis(corgis_list[0]).head()` will output the first five rows of the dataset corresponding to `corgis_list[0]`, the first name in your list\n",
    "\n",
    "You can include any code/output for checking this that you want, but for the final result, you should at least confirm that executing `pdcorgis(corgis_list[0]).head()` gives reasonable output (where `pdcorgis` and `corgis_list` are changed to your own function name and list name as needed)."
   ]
  },
  {
   "cell_type": "code",
   "execution_count": 16,
   "id": "e854bdc7",
   "metadata": {},
   "outputs": [
    {
     "data": {
      "text/html": [
       "<div>\n",
       "<style scoped>\n",
       "    .dataframe tbody tr th:only-of-type {\n",
       "        vertical-align: middle;\n",
       "    }\n",
       "\n",
       "    .dataframe tbody tr th {\n",
       "        vertical-align: top;\n",
       "    }\n",
       "\n",
       "    .dataframe thead th {\n",
       "        text-align: right;\n",
       "    }\n",
       "</style>\n",
       "<table border=\"1\" class=\"dataframe\">\n",
       "  <thead>\n",
       "    <tr style=\"text-align: right;\">\n",
       "      <th></th>\n",
       "      <th>Country</th>\n",
       "      <th>Year</th>\n",
       "      <th>Data.AIDS-Related Deaths.AIDS Orphans</th>\n",
       "      <th>Data.AIDS-Related Deaths.Adults</th>\n",
       "      <th>Data.AIDS-Related Deaths.All Ages</th>\n",
       "      <th>Data.AIDS-Related Deaths.Children</th>\n",
       "      <th>Data.AIDS-Related Deaths.Female Adults</th>\n",
       "      <th>Data.AIDS-Related Deaths.Male Adults</th>\n",
       "      <th>Data.HIV Prevalence.Adults</th>\n",
       "      <th>Data.HIV Prevalence.Young Men</th>\n",
       "      <th>...</th>\n",
       "      <th>Data.New HIV Infections.Female Adults</th>\n",
       "      <th>Data.New HIV Infections.Children</th>\n",
       "      <th>Data.New HIV Infections.All Ages</th>\n",
       "      <th>Data.New HIV Infections.Adults</th>\n",
       "      <th>Data.New HIV Infections.Incidence Rate Among Adults</th>\n",
       "      <th>Data.People Living with HIV.Total</th>\n",
       "      <th>Data.People Living with HIV.Male Adults</th>\n",
       "      <th>Data.People Living with HIV.Female Adults</th>\n",
       "      <th>Data.People Living with HIV.Children</th>\n",
       "      <th>Data.People Living with HIV.Adults</th>\n",
       "    </tr>\n",
       "  </thead>\n",
       "  <tbody>\n",
       "    <tr>\n",
       "      <th>0</th>\n",
       "      <td>Afghanistan</td>\n",
       "      <td>1990</td>\n",
       "      <td>100</td>\n",
       "      <td>100</td>\n",
       "      <td>100</td>\n",
       "      <td>100</td>\n",
       "      <td>100</td>\n",
       "      <td>100</td>\n",
       "      <td>0.1</td>\n",
       "      <td>0.1</td>\n",
       "      <td>...</td>\n",
       "      <td>100</td>\n",
       "      <td>100</td>\n",
       "      <td>100</td>\n",
       "      <td>100</td>\n",
       "      <td>0.01</td>\n",
       "      <td>500</td>\n",
       "      <td>500</td>\n",
       "      <td>100</td>\n",
       "      <td>100</td>\n",
       "      <td>500</td>\n",
       "    </tr>\n",
       "    <tr>\n",
       "      <th>1</th>\n",
       "      <td>Algeria</td>\n",
       "      <td>1990</td>\n",
       "      <td>200</td>\n",
       "      <td>100</td>\n",
       "      <td>100</td>\n",
       "      <td>100</td>\n",
       "      <td>100</td>\n",
       "      <td>100</td>\n",
       "      <td>0.1</td>\n",
       "      <td>0.1</td>\n",
       "      <td>...</td>\n",
       "      <td>100</td>\n",
       "      <td>100</td>\n",
       "      <td>100</td>\n",
       "      <td>100</td>\n",
       "      <td>0.01</td>\n",
       "      <td>500</td>\n",
       "      <td>500</td>\n",
       "      <td>200</td>\n",
       "      <td>100</td>\n",
       "      <td>500</td>\n",
       "    </tr>\n",
       "    <tr>\n",
       "      <th>2</th>\n",
       "      <td>Angola</td>\n",
       "      <td>1990</td>\n",
       "      <td>1300</td>\n",
       "      <td>500</td>\n",
       "      <td>1000</td>\n",
       "      <td>500</td>\n",
       "      <td>200</td>\n",
       "      <td>200</td>\n",
       "      <td>0.2</td>\n",
       "      <td>0.1</td>\n",
       "      <td>...</td>\n",
       "      <td>1700</td>\n",
       "      <td>1000</td>\n",
       "      <td>3400</td>\n",
       "      <td>2800</td>\n",
       "      <td>0.47</td>\n",
       "      <td>12000</td>\n",
       "      <td>4600</td>\n",
       "      <td>6100</td>\n",
       "      <td>1100</td>\n",
       "      <td>11000</td>\n",
       "    </tr>\n",
       "    <tr>\n",
       "      <th>3</th>\n",
       "      <td>Argentina</td>\n",
       "      <td>1990</td>\n",
       "      <td>500</td>\n",
       "      <td>200</td>\n",
       "      <td>500</td>\n",
       "      <td>100</td>\n",
       "      <td>100</td>\n",
       "      <td>200</td>\n",
       "      <td>0.1</td>\n",
       "      <td>0.1</td>\n",
       "      <td>...</td>\n",
       "      <td>1200</td>\n",
       "      <td>200</td>\n",
       "      <td>4500</td>\n",
       "      <td>4400</td>\n",
       "      <td>0.19</td>\n",
       "      <td>13000</td>\n",
       "      <td>9100</td>\n",
       "      <td>3700</td>\n",
       "      <td>200</td>\n",
       "      <td>13000</td>\n",
       "    </tr>\n",
       "    <tr>\n",
       "      <th>4</th>\n",
       "      <td>Armenia</td>\n",
       "      <td>1990</td>\n",
       "      <td>100</td>\n",
       "      <td>100</td>\n",
       "      <td>100</td>\n",
       "      <td>100</td>\n",
       "      <td>100</td>\n",
       "      <td>100</td>\n",
       "      <td>0.1</td>\n",
       "      <td>0.1</td>\n",
       "      <td>...</td>\n",
       "      <td>100</td>\n",
       "      <td>100</td>\n",
       "      <td>100</td>\n",
       "      <td>100</td>\n",
       "      <td>0.01</td>\n",
       "      <td>100</td>\n",
       "      <td>100</td>\n",
       "      <td>100</td>\n",
       "      <td>100</td>\n",
       "      <td>100</td>\n",
       "    </tr>\n",
       "  </tbody>\n",
       "</table>\n",
       "<p>5 rows × 23 columns</p>\n",
       "</div>"
      ],
      "text/plain": [
       "       Country  Year  Data.AIDS-Related Deaths.AIDS Orphans  \\\n",
       "0  Afghanistan  1990                                    100   \n",
       "1      Algeria  1990                                    200   \n",
       "2       Angola  1990                                   1300   \n",
       "3    Argentina  1990                                    500   \n",
       "4      Armenia  1990                                    100   \n",
       "\n",
       "   Data.AIDS-Related Deaths.Adults  Data.AIDS-Related Deaths.All Ages  \\\n",
       "0                              100                                100   \n",
       "1                              100                                100   \n",
       "2                              500                               1000   \n",
       "3                              200                                500   \n",
       "4                              100                                100   \n",
       "\n",
       "   Data.AIDS-Related Deaths.Children  Data.AIDS-Related Deaths.Female Adults  \\\n",
       "0                                100                                     100   \n",
       "1                                100                                     100   \n",
       "2                                500                                     200   \n",
       "3                                100                                     100   \n",
       "4                                100                                     100   \n",
       "\n",
       "   Data.AIDS-Related Deaths.Male Adults  Data.HIV Prevalence.Adults  \\\n",
       "0                                   100                         0.1   \n",
       "1                                   100                         0.1   \n",
       "2                                   200                         0.2   \n",
       "3                                   200                         0.1   \n",
       "4                                   100                         0.1   \n",
       "\n",
       "   Data.HIV Prevalence.Young Men  ...  Data.New HIV Infections.Female Adults  \\\n",
       "0                            0.1  ...                                    100   \n",
       "1                            0.1  ...                                    100   \n",
       "2                            0.1  ...                                   1700   \n",
       "3                            0.1  ...                                   1200   \n",
       "4                            0.1  ...                                    100   \n",
       "\n",
       "   Data.New HIV Infections.Children  Data.New HIV Infections.All Ages  \\\n",
       "0                               100                               100   \n",
       "1                               100                               100   \n",
       "2                              1000                              3400   \n",
       "3                               200                              4500   \n",
       "4                               100                               100   \n",
       "\n",
       "   Data.New HIV Infections.Adults  \\\n",
       "0                             100   \n",
       "1                             100   \n",
       "2                            2800   \n",
       "3                            4400   \n",
       "4                             100   \n",
       "\n",
       "   Data.New HIV Infections.Incidence Rate Among Adults  \\\n",
       "0                                               0.01     \n",
       "1                                               0.01     \n",
       "2                                               0.47     \n",
       "3                                               0.19     \n",
       "4                                               0.01     \n",
       "\n",
       "   Data.People Living with HIV.Total  Data.People Living with HIV.Male Adults  \\\n",
       "0                                500                                      500   \n",
       "1                                500                                      500   \n",
       "2                              12000                                     4600   \n",
       "3                              13000                                     9100   \n",
       "4                                100                                      100   \n",
       "\n",
       "   Data.People Living with HIV.Female Adults  \\\n",
       "0                                        100   \n",
       "1                                        200   \n",
       "2                                       6100   \n",
       "3                                       3700   \n",
       "4                                        100   \n",
       "\n",
       "   Data.People Living with HIV.Children  Data.People Living with HIV.Adults  \n",
       "0                                   100                                 500  \n",
       "1                                   100                                 500  \n",
       "2                                  1100                               11000  \n",
       "3                                   200                               13000  \n",
       "4                                   100                                 100  \n",
       "\n",
       "[5 rows x 23 columns]"
      ]
     },
     "execution_count": 16,
     "metadata": {},
     "output_type": "execute_result"
    }
   ],
   "source": [
    "pdcorgis(corgis_list[0]).head()"
   ]
  },
  {
   "cell_type": "markdown",
   "id": "5830f955",
   "metadata": {},
   "source": [
    "Look at the list of dataset names, and choose 3 datasets for visualization.  \n",
    "\n",
    "* Make a line plot with your first choice\n",
    "* Make a bar plot with your second choice\n",
    "* Make a histogram plot with your third choice\n",
    "\n",
    "Notes:\n",
    "* You should use your list of dataset names and your function defined above to retrieve the data needed for visualization.\n",
    "* All plots should present a visualization that is reasonably understandable (no zigzagging lines in a chaotic mess, there should not be a large number of overlapping labels, and etc)\n",
    "* You will likely find it useful to first use the `head()` method to get a quick idea of what data is stored in each dataframe.\n",
    "* Depending on your data, you may want to subset your data before making any plot.\n",
    "* Remember that bar plots have categorical data on the horizontal axis."
   ]
  },
  {
   "cell_type": "code",
   "execution_count": 18,
   "id": "e20a45fc-dfc0-4559-977b-d2b86e2f6534",
   "metadata": {},
   "outputs": [],
   "source": [
    "# retrieve data\n",
    "aids = pdcorgis(corgis_list[0])\n",
    "airlines = pdcorgis(corgis_list[1])\n",
    "astronauts = pdcorgis(corgis_list[2])"
   ]
  },
  {
   "cell_type": "code",
   "execution_count": 50,
   "id": "00861327",
   "metadata": {},
   "outputs": [
    {
     "data": {
      "text/plain": [
       "[Text(0, 0.5, 'Total Deaths in Tens of Millions'),\n",
       " Text(0.5, 1.0, 'Total Deaths in Tens of Millions by Year')]"
      ]
     },
     "execution_count": 50,
     "metadata": {},
     "output_type": "execute_result"
    },
    {
     "data": {
      "image/png": "[encoded data removed]",
      "text/plain": [
       "<Figure size 432x288 with 1 Axes>"
      ]
     },
     "metadata": {
      "needs_background": "light"
     },
     "output_type": "display_data"
    }
   ],
   "source": [
    "# line plot\n",
    "import seaborn as sns\n",
    "import matplotlib.pyplot as plt\n",
    "ax = sns.lineplot(data = aids.groupby('Year')['Data.People Living with HIV.Total'].sum())\n",
    "ax.set(ylabel='Total Deaths in Tens of Millions', title = 'Total Deaths in Tens of Millions by Year')"
   ]
  },
  {
   "cell_type": "code",
   "execution_count": 55,
   "id": "942e470f-666b-4cf6-85c2-d8341b2da7c6",
   "metadata": {},
   "outputs": [
    {
     "data": {
      "text/plain": [
       "Text(0.5, 1.0, 'Total Flights by Month in Millions')"
      ]
     },
     "execution_count": 55,
     "metadata": {},
     "output_type": "execute_result"
    },
    {
     "data": {
      "image/png": "[encoded data removed]",
      "text/plain": [
       "<Figure size 432x288 with 1 Axes>"
      ]
     },
     "metadata": {
      "needs_background": "light"
     },
     "output_type": "display_data"
    }
   ],
   "source": [
    "# bar plot\n",
    "sns.barplot(data = airlines.groupby('Time.Month Name')['Statistics.Flights.Total'].sum().reset_index(), x = 'Time.Month Name', y = 'Statistics.Flights.Total')\n",
    "plt.xticks(rotation=90)\n",
    "plt.xlabel('Month')\n",
    "plt.xlabel('Total Flights in Millions')\n",
    "plt.title('Total Flights by Month in Millions')"
   ]
  },
  {
   "cell_type": "code",
   "execution_count": 65,
   "id": "8a2a1bc4-9aaa-44c0-acfe-fc11c4c1b219",
   "metadata": {},
   "outputs": [
    {
     "data": {
      "text/plain": [
       "Text(0.5, 1.0, 'Histogram of Mission Duration')"
      ]
     },
     "execution_count": 65,
     "metadata": {},
     "output_type": "execute_result"
    },
    {
     "data": {
      "image/png": "[encoded data removed]",
      "text/plain": [
       "<Figure size 432x288 with 1 Axes>"
      ]
     },
     "metadata": {
      "needs_background": "light"
     },
     "output_type": "display_data"
    }
   ],
   "source": [
    "# histogram\n",
    "astronauts.head()\n",
    "sns.histplot(data= astronauts, x='Mission.Durations.Mission duration', bins=8, kde=True)\n",
    "plt.xlabel('Mission Duration')\n",
    "plt.title('Histogram of Mission Duration')"
   ]
  },
  {
   "cell_type": "markdown",
   "id": "053b95d4",
   "metadata": {},
   "source": [
    "# Submit\n",
    "Submit this assignment by:\n",
    "\n",
    "* Saving your work\n",
    "* Clicking on the Submit button at the top"
   ]
  }
 ],
 "metadata": {
  "kernelspec": {
   "display_name": "Python 3 (ipykernel)",
   "language": "python",
   "name": "python3"
  },
  "language_info": {
   "codemirror_mode": {
    "name": "ipython",
    "version": 3
   },
   "file_extension": ".py",
   "mimetype": "text/x-python",
   "name": "python",
   "nbconvert_exporter": "python",
   "pygments_lexer": "ipython3",
   "version": "3.9.7"
  }
 },
 "nbformat": 4,
 "nbformat_minor": 5
}
