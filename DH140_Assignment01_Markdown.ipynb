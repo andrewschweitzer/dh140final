{
 "cells": [
  {
   "cell_type": "markdown",
   "id": "b5f0c4db",
   "metadata": {},
   "source": [
    "# Assignment:  Markdown & Jupyter"
   ]
  },
  {
   "cell_type": "markdown",
   "id": "c26ac0a1",
   "metadata": {},
   "source": [
    "The aim of this assignment is to give you practice working with this Jupyter environment and writing Markdown.  \n",
    "\n",
    "This exercise is also intended to start you thinking about what you might like to work on for a project.  (I will not hold you to any project ideas written here; you are welcome to change your mind later.)\n",
    "\n",
    "## Notes\n",
    "\n",
    "* There are many guides out there on how to use markdown syntax.  The following is one example you may find useful:\n",
    "  * [Markdown Cheatsheet](https://github.com/adam-p/markdown-here/wiki/Markdown-Cheatsheet)\n",
    "* In this assignment notebook, you will find that you are unable to alter the content of the cells that I have written -> this is on purpose.  However, you will be able to edit and run all response cells.\n",
    "* After writing your responses in markdown, execute the cells so that your markdown text gets rendered."
   ]
  },
  {
   "cell_type": "markdown",
   "id": "804da742",
   "metadata": {},
   "source": [
    "<div class=\"alert alert-info\">\n",
    "\n",
    "<b>Initial step:</b>\n",
    "\n",
    "Open the cell below in edit mode (by double-clicking on it), look at how it is written, and then run it.  Make sure you understand how the text is marked up to get the header style, italics, bold, and a bulleted list.\n",
    "    \n",
    "</div>"
   ]
  },
  {
   "cell_type": "markdown",
   "id": "077299bc",
   "metadata": {},
   "source": [
    "(double-click here to edit)\n",
    "\n",
    "# First example\n",
    "\n",
    "This is one example of a *cell* that is written using **markdown** syntax.\n",
    "\n",
    "It uses:\n",
    "* '#' for a header\n",
    "* '*' for italics\n",
    "* '**' for bold"
   ]
  },
  {
   "cell_type": "markdown",
   "id": "e3167151",
   "metadata": {},
   "source": [
    "<div class=\"alert alert-info\">\n",
    "\n",
    "<b>Personal Profile:</b>\n",
    "\n",
    "Use markdown in the cell below to write a personal profile.  \n",
    "    \n",
    "This should include:\n",
    "1. your name, styled as an H1 header (see for example the above cheatsheet)\n",
    "2. your major in bold font\n",
    "3. your year in school in italics\n",
    "4. a description of why you are interested in the course, in normal font.\n",
    "\n",
    "</div>"
   ]
  },
  {
   "cell_type": "markdown",
   "id": "a5c86291",
   "metadata": {},
   "source": [
    "1. # Andrew Schweitzer\n",
    "2. **Statistics & Data Science**\n",
    "3. *4th year*\n",
    "4. I am interested in learning how the humanities can be studied using Python. I also am excited to work on a project that uses both programming and the humanities."
   ]
  },
  {
   "cell_type": "markdown",
   "id": "8765db37",
   "metadata": {},
   "source": [
    "<div class=\"alert alert-info\">\n",
    "\n",
    "**Data and viz of interest**\n",
    "\n",
    "1. Find a journal or newspaper article that relates data science to a humanities topic that you are interested in.\n",
    "  * Add a hypertext link to the article in the next cell and comment on why it interests you.\n",
    "2. Find a data visualization that you would love to know how to make with Python\n",
    "  * Include the image in the next cell too and comment on why you like it."
   ]
  },
  {
   "cell_type": "markdown",
   "id": "60a3657f",
   "metadata": {},
   "source": [
    "1. [Education big data and learning analytics: a bibliometric analysis](https://www.nature.com/articles/s41599-023-02176-x)\n",
    "* I am interested in this article because I have never heard of analytics being used in an education setting and would like to learn how analytics could enhance and improve education\n",
    "2. I am interested in this data visualization because I am intereted in visualizing data with maps. I find geography to be interesting and would like to learn more visualizations using maps.\n",
    "\n",
    "![alt text](https://media.springernature.com/full/springer-static/image/art%3A10.1057%2Fs41599-023-02176-x/MediaObjects/41599_2023_2176_Fig5_HTML.png?as=webp)\n",
    "\n"
   ]
  },
  {
   "cell_type": "markdown",
   "id": "08d8e201",
   "metadata": {},
   "source": [
    "<div class=\"alert alert-info\">\n",
    "\n",
    "<b>Ideas for data to investigate</b>\n",
    "\n",
    "In the cell below:\n",
    "1. Write a bulleted list of 2 or 3 humanities topics of interest to you.\n",
    "2. Do a quick search for data and/or articles related to those topics, and write a numbered list of links to your search results.\n",
    "    \n",
    "</div>\n",
    "\n"
   ]
  },
  {
   "cell_type": "markdown",
   "id": "81400531",
   "metadata": {},
   "source": [
    "* Influence of Art on Social Movements \n",
    "1. https://www.ndsmcobserver.com/article/2024/02/the-guerrilla-girls-bias-discrimination-and-activism-in-the-art-world\n",
    "2. https://impactnottingham.com/2024/01/storytelling-and-social-change-the-impact-of-politics-within-art/\n",
    "* Impact of Renaissance on Western Culture\n",
    "1. https://theimaginativeconservative.org/2023/11/power-ideology-christopher-dawson-modern-age-bradley-birzer.html\n",
    "2. https://chroniclesmagazine.org/reviews/to-be-or-not-to-be-western-civilization/\n",
    "\n"
   ]
  },
  {
   "cell_type": "markdown",
   "id": "66a44ea0",
   "metadata": {},
   "source": [
    "<div class=\"alert alert-info\">\n",
    "\n",
    "<b>Ideas from curated datasets & project lists</b>\n",
    "\n",
    "Review the projects and datasets on the following two pages:\n",
    "* https://miriamposner.com/classes/dh201w21/final-project/datasets\n",
    "* https://archive.ics.uci.edu/datasets\n",
    "\n",
    "Make a table in the cell below that includes columns for (1) the name of any dataset of interest, (2) a brief description of the data and how you think coding might be useful to investigate the dataset, and (3) a hypertext link to the data.\n",
    "    \n",
    "There is no restriction on number of datasets to include, but please include at least two."
   ]
  },
  {
   "cell_type": "markdown",
   "id": "7bd91c33",
   "metadata": {},
   "source": [
    "Dataset | Description | Link\n",
    "---|---|---\n",
    "Marvel Comic Book and Characters | Dataset includes all comic books and characters in marvel and it would be interesting to look at how historical events in the U.S. shaped and influenced the creation of characters. | [Marvel Comic Book and Characters](https://developer.marvel.com/)\n",
    "Individual Household Electric Power Consumption | Dataset includes measurements of electric power consumption in one household over 4 years. I want to analyze the data to see how electricity usage changes throughout the year and how it is affected by events occurring throughout the 4 years. | [Individual Household Electric Power Consumption](https://archive.ics.uci.edu/dataset/235/individual+household+electric+power+consumption)"
   ]
  },
  {
   "cell_type": "markdown",
   "id": "a8a6ab2a",
   "metadata": {},
   "source": [
    "<div class=\"alert alert-info\">\n",
    "\n",
    "<b>Submit</b>\n",
    "\n",
    "Submit this assignment by:\n",
    "1. Saving the file\n",
    "2. Clicking on the Submit button at the top\n",
    "\n",
    "</div>"
   ]
  }
 ],
 "metadata": {
  "kernelspec": {
   "display_name": "Python 3 (ipykernel)",
   "language": "python",
   "name": "python3"
  },
  "language_info": {
   "codemirror_mode": {
    "name": "ipython",
    "version": 3
   },
   "file_extension": ".py",
   "mimetype": "text/x-python",
   "name": "python",
   "nbconvert_exporter": "python",
   "pygments_lexer": "ipython3",
   "version": "3.9.7"
  }
 },
 "nbformat": 4,
 "nbformat_minor": 5
}
