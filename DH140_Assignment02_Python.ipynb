{
 "cells": [
  {
   "cell_type": "markdown",
   "id": "e8b4c3b5",
   "metadata": {},
   "source": [
    "# Assignment: Python Basics"
   ]
  },
  {
   "cell_type": "markdown",
   "id": "0327c786",
   "metadata": {},
   "source": [
    "The following assignment is intended to help you practice (potentially completely new) Python skills.\n",
    "\n",
    "It's not intended to make you tear your hair out in consternation! If you want hints or guidance on the basics, please come to our first class prepared with questions.\n",
    "\n",
    "In the spaces below, you are welcome to add new code cells as you wish to help you craft your answers."
   ]
  },
  {
   "cell_type": "markdown",
   "id": "206ae631",
   "metadata": {},
   "source": [
    "## Python exercises"
   ]
  },
  {
   "cell_type": "markdown",
   "id": "c4662958",
   "metadata": {},
   "source": [
    "Carry out the following instructions in the code cells beneath each instruction."
   ]
  },
  {
   "cell_type": "markdown",
   "id": "820d476f",
   "metadata": {},
   "source": [
    "Do a mathematical calculation that includes at least three of the following operators: `+`, `-`, `*`, `/`, and/or `%`."
   ]
  },
  {
   "cell_type": "code",
   "execution_count": 1,
   "id": "0dfb8677",
   "metadata": {},
   "outputs": [
    {
     "data": {
      "text/plain": [
       "7"
      ]
     },
     "execution_count": 1,
     "metadata": {},
     "output_type": "execute_result"
    }
   ],
   "source": [
    "4 + 5 - 1 * 2"
   ]
  },
  {
   "cell_type": "markdown",
   "id": "da529bd7",
   "metadata": {},
   "source": [
    "Assign a number to the variable `a`"
   ]
  },
  {
   "cell_type": "code",
   "execution_count": 2,
   "id": "fcd2f994",
   "metadata": {},
   "outputs": [],
   "source": [
    "a = 12"
   ]
  },
  {
   "cell_type": "markdown",
   "id": "88a251f2",
   "metadata": {},
   "source": [
    "Use an `if` statement to print out \"a is even\" or \"a is odd\" depending on whether `a % 2` is true or false."
   ]
  },
  {
   "cell_type": "code",
   "execution_count": 3,
   "id": "7d3c2c74",
   "metadata": {},
   "outputs": [
    {
     "name": "stdout",
     "output_type": "stream",
     "text": [
      "a is even\n"
     ]
    }
   ],
   "source": [
    "if a % 2 == 0:\n",
    "    print('a is even')\n",
    "else:\n",
    "    print('a is odd')"
   ]
  },
  {
   "cell_type": "markdown",
   "id": "79c99999",
   "metadata": {},
   "source": [
    "Assign `a` to be a Python list that consists of the numbers 1, 1, 2, 3, 5, 8, 13, 21, 34, 55, 89"
   ]
  },
  {
   "cell_type": "code",
   "execution_count": 4,
   "id": "0290dfff",
   "metadata": {},
   "outputs": [],
   "source": [
    "a = [1, 1, 2, 3, 5, 8, 13, 21, 34, 55, 89]"
   ]
  },
  {
   "cell_type": "markdown",
   "id": "560fe59e",
   "metadata": {},
   "source": [
    "Print all the elements of `a`"
   ]
  },
  {
   "cell_type": "code",
   "execution_count": 5,
   "id": "1250779f",
   "metadata": {},
   "outputs": [
    {
     "name": "stdout",
     "output_type": "stream",
     "text": [
      "[1, 1, 2, 3, 5, 8, 13, 21, 34, 55, 89]\n"
     ]
    }
   ],
   "source": [
    "print(a)"
   ]
  },
  {
   "cell_type": "markdown",
   "id": "55f6f2f4",
   "metadata": {},
   "source": [
    "Print the first element of `a` (where you get the first element by using index notation)"
   ]
  },
  {
   "cell_type": "code",
   "execution_count": 6,
   "id": "21803e34",
   "metadata": {},
   "outputs": [
    {
     "name": "stdout",
     "output_type": "stream",
     "text": [
      "1\n"
     ]
    }
   ],
   "source": [
    "print(a[0])"
   ]
  },
  {
   "cell_type": "markdown",
   "id": "f870e7f5",
   "metadata": {},
   "source": [
    "Print the fifth element at `a`"
   ]
  },
  {
   "cell_type": "code",
   "execution_count": 7,
   "id": "3962f2bd",
   "metadata": {},
   "outputs": [
    {
     "name": "stdout",
     "output_type": "stream",
     "text": [
      "5\n"
     ]
    }
   ],
   "source": [
    "print(a[4])"
   ]
  },
  {
   "cell_type": "markdown",
   "id": "5258a1f0",
   "metadata": {},
   "source": [
    "Print the last element of `a`"
   ]
  },
  {
   "cell_type": "code",
   "execution_count": 8,
   "id": "73dc6218",
   "metadata": {},
   "outputs": [
    {
     "name": "stdout",
     "output_type": "stream",
     "text": [
      "89\n"
     ]
    }
   ],
   "source": [
    "print(a[-1])"
   ]
  },
  {
   "cell_type": "markdown",
   "id": "012ca097",
   "metadata": {},
   "source": [
    "Use the `len()` method to output the length of `a`\n",
    "  * you may find it useful to look at https://python.readthedocs.io/en/stable/library/functions.html for documentation about `len()`"
   ]
  },
  {
   "cell_type": "code",
   "execution_count": 9,
   "id": "b467e030",
   "metadata": {},
   "outputs": [
    {
     "data": {
      "text/plain": [
       "11"
      ]
     },
     "execution_count": 9,
     "metadata": {},
     "output_type": "execute_result"
    }
   ],
   "source": [
    "len(a)"
   ]
  },
  {
   "cell_type": "markdown",
   "id": "457c66e4",
   "metadata": {},
   "source": [
    "Print all the elements of `a` less than 8"
   ]
  },
  {
   "cell_type": "code",
   "execution_count": 10,
   "id": "13a57a53",
   "metadata": {},
   "outputs": [
    {
     "data": {
      "text/plain": [
       "[1, 1, 2, 3, 5]"
      ]
     },
     "execution_count": 10,
     "metadata": {},
     "output_type": "execute_result"
    }
   ],
   "source": [
    "[i for i in a if i < 8]"
   ]
  },
  {
   "cell_type": "markdown",
   "id": "0ca93e51",
   "metadata": {},
   "source": [
    "Print out the elements of `a` in reverse order\n",
    "  * look at https://python-reference.readthedocs.io/en/latest/docs/list, specifically `reverse`"
   ]
  },
  {
   "cell_type": "code",
   "execution_count": 11,
   "id": "4fea2769",
   "metadata": {},
   "outputs": [
    {
     "data": {
      "text/plain": [
       "[89, 55, 34, 21, 13, 8, 5, 3, 2, 1, 1]"
      ]
     },
     "execution_count": 11,
     "metadata": {},
     "output_type": "execute_result"
    }
   ],
   "source": [
    "a[::-1]"
   ]
  },
  {
   "cell_type": "markdown",
   "id": "979e9401",
   "metadata": {},
   "source": [
    "Append the next fibonacci number to `a` and print out the new list\n",
    "  * elements in the fibonacci sequence are equal to the sum of the previous two elements\n",
    "  * look again at the docs, this time for `append`"
   ]
  },
  {
   "cell_type": "code",
   "execution_count": 12,
   "id": "93b41dad",
   "metadata": {},
   "outputs": [
    {
     "data": {
      "text/plain": [
       "[1, 1, 2, 3, 5, 8, 13, 21, 34, 55, 89, 144]"
      ]
     },
     "execution_count": 12,
     "metadata": {},
     "output_type": "execute_result"
    }
   ],
   "source": [
    "a.append(a[-1]+a[-2])\n",
    "a"
   ]
  },
  {
   "cell_type": "markdown",
   "id": "c0c687c9",
   "metadata": {},
   "source": [
    "Assign `a` and `b` to be lists of numbers as follows:\n",
    "\n",
    "`a = [1, 1, 2, 3, 5, 8, 13, 21, 34, 55, 89]`\n",
    "\n",
    "`b = [1, 2, 3, 4, 5, 6, 7, 8, 9, 10, 11, 12, 13]`\n",
    "\n",
    "Then use Python to print out the intersection of `a` and `b`, i.e. those elements that are contained in both `a` and `b`."
   ]
  },
  {
   "cell_type": "code",
   "execution_count": 13,
   "id": "5a0a2a48",
   "metadata": {},
   "outputs": [
    {
     "data": {
      "text/plain": [
       "[1, 1, 2, 3, 5, 8, 13]"
      ]
     },
     "execution_count": 13,
     "metadata": {},
     "output_type": "execute_result"
    }
   ],
   "source": [
    "a = [1, 1, 2, 3, 5, 8, 13, 21, 34, 55, 89]\n",
    "b = [1, 2, 3, 4, 5, 6, 7, 8, 9, 10, 11, 12, 13]\n",
    "\n",
    "[x for x in a if x in b]"
   ]
  },
  {
   "cell_type": "markdown",
   "id": "10ec278a",
   "metadata": {},
   "source": [
    "Set:\n",
    "\n",
    "`a = {'January': 7, 'February': 8, 'March': 5, 'April': 5}`\n",
    "\n",
    "Then add a new item to the dictionary and print the message \"\\<key> has \\<value> letters\" for every \\<key>:\\<value> pair that is in the dictionary.  As an example, if your dictionary was `{'x': 10}` then you would print `x has 10 letters`"
   ]
  },
  {
   "cell_type": "code",
   "execution_count": 14,
   "id": "59d49038",
   "metadata": {},
   "outputs": [
    {
     "name": "stdout",
     "output_type": "stream",
     "text": [
      "January has 7 letters\n",
      "February has 8 letters\n",
      "March has 5 letters\n",
      "April has 5 letters\n",
      "August has 6 letters\n"
     ]
    }
   ],
   "source": [
    "a = {'January': 7, 'February': 8, 'March': 5, 'April': 5}\n",
    "a['August'] = 6\n",
    "\n",
    "for key in a:\n",
    "    print(key, 'has', a[key], 'letters')"
   ]
  },
  {
   "cell_type": "markdown",
   "id": "b4f3ae3d",
   "metadata": {},
   "source": [
    "Write a Python function that takes as input a list of numbers and prints a new Python list containing the first and last elements of the given list."
   ]
  },
  {
   "cell_type": "code",
   "execution_count": 15,
   "id": "94a3397e",
   "metadata": {},
   "outputs": [],
   "source": [
    "def first_last(list):\n",
    "    return [list[0], list[-1]]"
   ]
  },
  {
   "cell_type": "markdown",
   "id": "ded5e5da",
   "metadata": {},
   "source": [
    "Execute your Python function with several examples."
   ]
  },
  {
   "cell_type": "code",
   "execution_count": 16,
   "id": "24495695",
   "metadata": {},
   "outputs": [
    {
     "data": {
      "text/plain": [
       "[1, 2, 3, 4, 5, 6, 7, 8, 9, 10, 11, 12, 13]"
      ]
     },
     "execution_count": 16,
     "metadata": {},
     "output_type": "execute_result"
    }
   ],
   "source": [
    "b"
   ]
  },
  {
   "cell_type": "code",
   "execution_count": 17,
   "id": "42674579-8ef3-4bad-86c1-6583a9262af8",
   "metadata": {},
   "outputs": [
    {
     "data": {
      "text/plain": [
       "[1, 13]"
      ]
     },
     "execution_count": 17,
     "metadata": {},
     "output_type": "execute_result"
    }
   ],
   "source": [
    "first_last(b)"
   ]
  },
  {
   "cell_type": "code",
   "execution_count": 18,
   "id": "23ea5f42-5a39-4b18-94fb-71953f759825",
   "metadata": {},
   "outputs": [],
   "source": [
    "c = [0, 13, 14, 100]"
   ]
  },
  {
   "cell_type": "code",
   "execution_count": 19,
   "id": "2a4ebf85-c46c-4c39-9fc4-c1d5d4d9db53",
   "metadata": {},
   "outputs": [
    {
     "data": {
      "text/plain": [
       "[0, 100]"
      ]
     },
     "execution_count": 19,
     "metadata": {},
     "output_type": "execute_result"
    }
   ],
   "source": [
    "first_last(c)"
   ]
  },
  {
   "cell_type": "code",
   "execution_count": 20,
   "id": "a34312cf",
   "metadata": {},
   "outputs": [
    {
     "name": "stdout",
     "output_type": "stream",
     "text": [
      "{'A': 1, 'computer': 1, 'program': 1, 'is': 1, 'said': 1, 'to': 2, 'learn': 1, 'from': 1, 'experience': 2, 'E': 1, 'with': 2, 'respect': 1, 'some': 1, 'class': 1, 'of': 1, 'tasks': 2, 'T': 2, 'and': 1, 'performance': 2, 'measure': 1, 'P': 2, 'if': 1, 'its': 1, 'at': 1, 'in': 1, 'as': 1, 'measured': 1, 'by': 1, 'improves': 1, 'E.': 1}\n"
     ]
    }
   ],
   "source": [
    "# Execute this cell and look at its output\n",
    "\n",
    "ml_sentence = '''\n",
    "A computer program is said to learn \n",
    "from experience E with respect to some class of tasks T \n",
    "and performance measure P if its performance at tasks in T \n",
    "as measured by P improves with experience E.\n",
    "'''\n",
    "\n",
    "ml_sentence_words = {}\n",
    "for i in ml_sentence.split():\n",
    "    if i in ml_sentence_words.keys():\n",
    "        ml_sentence_words[i] += 1\n",
    "    else:\n",
    "        ml_sentence_words[i] = 1\n",
    "print(ml_sentence_words)"
   ]
  },
  {
   "cell_type": "markdown",
   "id": "4d522ed6",
   "metadata": {},
   "source": [
    "[Edit this markdown cell to write answers to the following.  You may use the cell immediately beneath this one to test code if you want.]\n",
    "\n",
    "* In the cell above, what does `ml_sentence.split()` do? \n",
    "1. It takes the `ml_sentence` string and uses the `.split()` method to divide the string into a list of words since the delimiter that is being split on is white space by default.\n",
    "\n",
    "* What keys are added to `ml_sentence_words`?\n",
    "2. After splitting `ml_sentence` into a list of words, we check to see if each word is already a key in the dictionary. If not, then we add the new word as a key into the dictionary. \n",
    "\n",
    "* What values are added to `ml_sentence_words`?\n",
    "3. The values attached to each key is the amount of times the key appears in our `ml_sentence` string. If a word is not a key in the dictionary already, a the word is inputted as a key and it is given the value 1; however, if the word is already present as a key in the dicionary then 1 is added to its value.\n"
   ]
  },
  {
   "cell_type": "code",
   "execution_count": 21,
   "id": "be52db23",
   "metadata": {},
   "outputs": [],
   "source": [
    "# This cell is for testing code\n"
   ]
  },
  {
   "cell_type": "markdown",
   "id": "35e26a57",
   "metadata": {},
   "source": [
    "Time to roll up our sleeves and make a similar dictionary for all the words in Macbeth.\n",
    "\n",
    "Execute the following cell and look at its output."
   ]
  },
  {
   "cell_type": "code",
   "execution_count": 22,
   "id": "14334bc7",
   "metadata": {},
   "outputs": [
    {
     "name": "stderr",
     "output_type": "stream",
     "text": [
      "[nltk_data] Downloading package punkt to\n",
      "[nltk_data]     /Users/andrewschweitzer/nltk_data...\n",
      "[nltk_data]   Package punkt is already up-to-date!\n"
     ]
    },
    {
     "name": "stdout",
     "output_type": "stream",
     "text": [
      "['ï', '»', '¿', '*', '*', '*', 'start', 'of', 'the', 'project']\n"
     ]
    }
   ],
   "source": [
    "# Here we import libraries that can grab data from the web (via requests)\n",
    "# and form a list of words using NLTK.\n",
    "import requests\n",
    "from nltk.tokenize import word_tokenize\n",
    "import nltk\n",
    "nltk.download('punkt')\n",
    "\n",
    "# Here we get the text of Macbeth from Project Gutenberg (https://www.gutenberg.org/) \n",
    "# and \"tokenize\" the text (split it up into words)\n",
    "target_url = \"https://www.gutenberg.org/files/1533/1533-0.txt\"\n",
    "response = requests.get(target_url)\n",
    "text_string = response.text\n",
    "text_string = text_string.lower()\n",
    "text_words = word_tokenize(text_string)\n",
    "\n",
    "# Here we print the first 10 words\n",
    "print(text_words[0:10])"
   ]
  },
  {
   "cell_type": "markdown",
   "id": "7c546232",
   "metadata": {},
   "source": [
    "`text_words` is now a Python list whose elements consist of the words contained in Macbeth.  The command `print(text_words[0:10])` prints out the first 10 \"words\" in the list.\n",
    "\n",
    "Make a Python dictionary whose keys are the unique words in `text_words`, with the corresponding values for each key being the word counts.\n",
    "\n",
    "* The example above with `ml_sentence_words` can be useful when figuring out one way to do this."
   ]
  },
  {
   "cell_type": "code",
   "execution_count": 23,
   "id": "0e1ce1a0",
   "metadata": {},
   "outputs": [],
   "source": [
    "text_words_dict = {}\n",
    "for i in text_words:\n",
    "    if i in text_words_dict.keys():\n",
    "        text_words_dict[i] += 1\n",
    "    else:\n",
    "        text_words_dict[i] = 1"
   ]
  },
  {
   "cell_type": "markdown",
   "id": "f6819668",
   "metadata": {},
   "source": [
    "Check out some entries in the dictionary. At the very least, print out the counts for the words 'macbeth', 'sword', and 'thy'"
   ]
  },
  {
   "cell_type": "code",
   "execution_count": 24,
   "id": "5f846e6a",
   "metadata": {},
   "outputs": [
    {
     "data": {
      "text/plain": [
       "284"
      ]
     },
     "execution_count": 24,
     "metadata": {},
     "output_type": "execute_result"
    }
   ],
   "source": [
    "text_words_dict['macbeth']"
   ]
  },
  {
   "cell_type": "code",
   "execution_count": 25,
   "id": "14d1da9b-562c-4063-853e-d744d1cee2c1",
   "metadata": {},
   "outputs": [
    {
     "data": {
      "text/plain": [
       "11"
      ]
     },
     "execution_count": 25,
     "metadata": {},
     "output_type": "execute_result"
    }
   ],
   "source": [
    "text_words_dict['sword']"
   ]
  },
  {
   "cell_type": "code",
   "execution_count": 26,
   "id": "ef6cbe4f-6d7f-4324-b1ab-2bf4c49d5a8e",
   "metadata": {},
   "outputs": [
    {
     "data": {
      "text/plain": [
       "52"
      ]
     },
     "execution_count": 26,
     "metadata": {},
     "output_type": "execute_result"
    }
   ],
   "source": [
    "text_words_dict['thy']"
   ]
  },
  {
   "cell_type": "code",
   "execution_count": 27,
   "id": "11c02602-34d3-4bbe-b476-27bce3ba42cf",
   "metadata": {},
   "outputs": [
    {
     "data": {
      "text/plain": [
       "1721"
      ]
     },
     "execution_count": 27,
     "metadata": {},
     "output_type": "execute_result"
    }
   ],
   "source": [
    "# most common\n",
    "max(text_words_dict, key=lambda k: text_words_dict[k])\n",
    "text_words_dict[',']"
   ]
  },
  {
   "cell_type": "markdown",
   "id": "109f2afa",
   "metadata": {},
   "source": [
    "## Submit\n",
    "\n",
    "Submit this assignment by:\n",
    "\n",
    "* Saving your work\n",
    "* Clicking on the Submit button at the top"
   ]
  }
 ],
 "metadata": {
  "kernelspec": {
   "display_name": "Python 3 (ipykernel)",
   "language": "python",
   "name": "python3"
  },
  "language_info": {
   "codemirror_mode": {
    "name": "ipython",
    "version": 3
   },
   "file_extension": ".py",
   "mimetype": "text/x-python",
   "name": "python",
   "nbconvert_exporter": "python",
   "pygments_lexer": "ipython3",
   "version": "3.9.7"
  }
 },
 "nbformat": 4,
 "nbformat_minor": 5
}
